{
 "cells": [
  {
   "cell_type": "code",
   "execution_count": 9,
   "metadata": {},
   "outputs": [
    {
     "output_type": "stream",
     "name": "stdout",
     "text": [
      "Opening dialogue box for folder selection. Please choose a folder.\n",
      "Folder selected:\n",
      "C:/Users/binod/Desktop/NURS 6806-090 Fall/Week_8/exerPythCombineFiles/FileTypes\n"
     ]
    }
   ],
   "source": [
    "# Have user select excel sheet with needed data.\n",
    "import tkinter as tk\n",
    "from tkinter import filedialog\n",
    "\n",
    "root = tk.Tk()\n",
    "root.lift()\n",
    "root.withdraw()\n",
    "\n",
    "# This code block will open a specific file. (Uncomment the lines after this comment to use them.)\n",
    "#print('Opening dialogue box for file selection. Please choose a file.')\n",
    "#file_path = filedialog.askopenfilename()\n",
    "#print('File selected:')\n",
    "\n",
    "# This code block will get a directory path. (Uncomment the lines after this comment to use them.)\n",
    "print('Opening dialogue box for folder selection. Please choose a folder.')\n",
    "file_path = filedialog.askdirectory()\n",
    "print('Folder selected:')\n",
    "\n",
    "print(file_path)"
   ]
  },
  {
   "cell_type": "code",
   "execution_count": 10,
   "metadata": {},
   "outputs": [
    {
     "output_type": "stream",
     "name": "stdout",
     "text": [
      "All files in folder:  ['.ipynb_checkpoints', 'Combine multiple file types with same columns into dataframe.py', 'CSVtest.csv', 'CSVtest2.csv', 'CSVtest2_Update.csv', 'CSVtest_Update.csv', 'EXCELtest.xlsx', 'EXCELtest2.xlsx', 'EXCELtest2_Update.xlsx', 'EXCELtest_Update.xlsx', 'JSONtest.json', 'JSONtest2.json', 'JSONtest2_Update.json', 'JSONtest3.json', 'JSONtest3_Update.json', 'JSONtest_Update.json', 'XMLtest.xml', 'XMLtest2.xml', 'XMLtest2_Update.xml', 'XMLtest3.xml', 'XMLtest3_Update.xml', 'XMLtest_update.xml'] \n\nCSVfiles:  ['CSVtest.csv', 'CSVtest2.csv', 'CSVtest2_Update.csv', 'CSVtest_Update.csv'] \nExcel files:  ['EXCELtest.xlsx', 'EXCELtest2.xlsx', 'EXCELtest2_Update.xlsx', 'EXCELtest_Update.xlsx'] \nJSON files:  ['JSONtest.json', 'JSONtest2.json', 'JSONtest2_Update.json', 'JSONtest3.json', 'JSONtest3_Update.json', 'JSONtest_Update.json'] \nXML files:  ['XMLtest.xml', 'XMLtest2.xml', 'XMLtest2_Update.xml', 'XMLtest3.xml', 'XMLtest3_Update.xml', 'XMLtest_update.xml']\n"
     ]
    }
   ],
   "source": [
    "# Make sure correct files are recognized.\n",
    "\n",
    "import os\n",
    "import pandas as pd\n",
    "\n",
    "# List the files in the directory.\n",
    "files = os.listdir(file_path)\n",
    "print('All files in folder: ', files, '\\n')\n",
    "\n",
    "# List of file types we want to add\n",
    "file_types = ['xlsx','csv','json','xml']\n",
    "\n",
    "# create a list of files for each file type\n",
    "files_csv = [f for f in files if f[-3:] == 'csv']\n",
    "files_xlsx = [f for f in files if f[-4:] == 'xlsx']\n",
    "files_json = [f for f in files if f[-4:] == 'json']\n",
    "files_xml = [f for f in files if f[-3:] == 'xml']\n",
    "\n",
    "##print('CSV files: ', files_csv, '\\nExcel files: ', files_xlsx, '\\nJSON files: ',files_json, '\\nXML files: ', files_xml)\n",
    "print('CSVfiles: ', files_csv, '\\nExcel files: ', files_xlsx, '\\nJSON files: ', files_json, '\\nXML files: ', files_xml)"
   ]
  },
  {
   "cell_type": "code",
   "execution_count": 11,
   "metadata": {},
   "outputs": [
    {
     "output_type": "stream",
     "name": "stdout",
     "text": [
      "28\n"
     ]
    },
    {
     "output_type": "execute_result",
     "data": {
      "text/plain": [
       "             name                 date height weight                  Source\n",
       "0      Jack Smith             4/1/2019    185     91             CSVtest.csv\n",
       "1      Jack Black             4/2/2019    183     91             CSVtest.csv\n",
       "2    Brock Bricks            4/10/2019    185     95            CSVtest2.csv\n",
       "3      Jack Brack             6/7/2019    172     91            CSVtest2.csv\n",
       "4    Brock Bricks            4/10/2019    185     90     CSVtest2_Update.csv\n",
       "5      Jack Brack             6/7/2019    172     90     CSVtest2_Update.csv\n",
       "6      Jack Smith             4/1/2019    185     90      CSVtest_Update.csv\n",
       "7      Jack Black             4/2/2019    183     90      CSVtest_Update.csv\n",
       "8       Jen Smith  2019-05-02 00:00:00    153     50          EXCELtest.xlsx\n",
       "9       Sam Smith  2019-01-02 00:00:00    160     55          EXCELtest.xlsx\n",
       "10    Rock Royden  2019-05-02 00:00:00    160     52         EXCELtest2.xlsx\n",
       "11  Brandon Snads  2019-10-02 00:00:00    175     80         EXCELtest2.xlsx\n",
       "12    Rock Royden  2019-05-02 00:00:00    160     90  EXCELtest2_Update.xlsx\n",
       "13  Brandon Snads  2019-10-02 00:00:00    175     90  EXCELtest2_Update.xlsx\n",
       "14      Jen Smith  2019-05-02 00:00:00    153     90   EXCELtest_Update.xlsx\n",
       "15      Sam Smith  2019-01-02 00:00:00    160     90   EXCELtest_Update.xlsx\n",
       "16     Jane Smith           09/02/2019    170     75           JSONtest.json\n",
       "17   Jane Jackson           09/03/2019    172     74          JSONtest2.json\n",
       "18   Jane Jackson           09/03/2019    172     90   JSONtest2_Update.json\n",
       "19  Becky Jackson           04/03/2019    165     70          JSONtest3.json\n",
       "20  Becky Jackson           04/03/2019    165     90   JSONtest3_Update.json\n",
       "21     Jane Smith           09/02/2019    170     90    JSONtest_Update.json\n",
       "22     John Smith           02/08/2019    180    100             XMLtest.xml\n",
       "23    John Smithe           03/08/2019    185    101            XMLtest2.xml\n",
       "24    John Smithe           03/08/2019    185     90     XMLtest2_Update.xml\n",
       "25   Brett Smithe           05/08/2019    179     99            XMLtest3.xml\n",
       "26   Brett Smithe           05/08/2019    179     90     XMLtest3_Update.xml\n",
       "27     John Smith           02/08/2019    180     90      XMLtest_update.xml"
      ],
      "text/html": "<div>\n<style scoped>\n    .dataframe tbody tr th:only-of-type {\n        vertical-align: middle;\n    }\n\n    .dataframe tbody tr th {\n        vertical-align: top;\n    }\n\n    .dataframe thead th {\n        text-align: right;\n    }\n</style>\n<table border=\"1\" class=\"dataframe\">\n  <thead>\n    <tr style=\"text-align: right;\">\n      <th></th>\n      <th>name</th>\n      <th>date</th>\n      <th>height</th>\n      <th>weight</th>\n      <th>Source</th>\n    </tr>\n  </thead>\n  <tbody>\n    <tr>\n      <td>0</td>\n      <td>Jack Smith</td>\n      <td>4/1/2019</td>\n      <td>185</td>\n      <td>91</td>\n      <td>CSVtest.csv</td>\n    </tr>\n    <tr>\n      <td>1</td>\n      <td>Jack Black</td>\n      <td>4/2/2019</td>\n      <td>183</td>\n      <td>91</td>\n      <td>CSVtest.csv</td>\n    </tr>\n    <tr>\n      <td>2</td>\n      <td>Brock Bricks</td>\n      <td>4/10/2019</td>\n      <td>185</td>\n      <td>95</td>\n      <td>CSVtest2.csv</td>\n    </tr>\n    <tr>\n      <td>3</td>\n      <td>Jack Brack</td>\n      <td>6/7/2019</td>\n      <td>172</td>\n      <td>91</td>\n      <td>CSVtest2.csv</td>\n    </tr>\n    <tr>\n      <td>4</td>\n      <td>Brock Bricks</td>\n      <td>4/10/2019</td>\n      <td>185</td>\n      <td>90</td>\n      <td>CSVtest2_Update.csv</td>\n    </tr>\n    <tr>\n      <td>5</td>\n      <td>Jack Brack</td>\n      <td>6/7/2019</td>\n      <td>172</td>\n      <td>90</td>\n      <td>CSVtest2_Update.csv</td>\n    </tr>\n    <tr>\n      <td>6</td>\n      <td>Jack Smith</td>\n      <td>4/1/2019</td>\n      <td>185</td>\n      <td>90</td>\n      <td>CSVtest_Update.csv</td>\n    </tr>\n    <tr>\n      <td>7</td>\n      <td>Jack Black</td>\n      <td>4/2/2019</td>\n      <td>183</td>\n      <td>90</td>\n      <td>CSVtest_Update.csv</td>\n    </tr>\n    <tr>\n      <td>8</td>\n      <td>Jen Smith</td>\n      <td>2019-05-02 00:00:00</td>\n      <td>153</td>\n      <td>50</td>\n      <td>EXCELtest.xlsx</td>\n    </tr>\n    <tr>\n      <td>9</td>\n      <td>Sam Smith</td>\n      <td>2019-01-02 00:00:00</td>\n      <td>160</td>\n      <td>55</td>\n      <td>EXCELtest.xlsx</td>\n    </tr>\n    <tr>\n      <td>10</td>\n      <td>Rock Royden</td>\n      <td>2019-05-02 00:00:00</td>\n      <td>160</td>\n      <td>52</td>\n      <td>EXCELtest2.xlsx</td>\n    </tr>\n    <tr>\n      <td>11</td>\n      <td>Brandon Snads</td>\n      <td>2019-10-02 00:00:00</td>\n      <td>175</td>\n      <td>80</td>\n      <td>EXCELtest2.xlsx</td>\n    </tr>\n    <tr>\n      <td>12</td>\n      <td>Rock Royden</td>\n      <td>2019-05-02 00:00:00</td>\n      <td>160</td>\n      <td>90</td>\n      <td>EXCELtest2_Update.xlsx</td>\n    </tr>\n    <tr>\n      <td>13</td>\n      <td>Brandon Snads</td>\n      <td>2019-10-02 00:00:00</td>\n      <td>175</td>\n      <td>90</td>\n      <td>EXCELtest2_Update.xlsx</td>\n    </tr>\n    <tr>\n      <td>14</td>\n      <td>Jen Smith</td>\n      <td>2019-05-02 00:00:00</td>\n      <td>153</td>\n      <td>90</td>\n      <td>EXCELtest_Update.xlsx</td>\n    </tr>\n    <tr>\n      <td>15</td>\n      <td>Sam Smith</td>\n      <td>2019-01-02 00:00:00</td>\n      <td>160</td>\n      <td>90</td>\n      <td>EXCELtest_Update.xlsx</td>\n    </tr>\n    <tr>\n      <td>16</td>\n      <td>Jane Smith</td>\n      <td>09/02/2019</td>\n      <td>170</td>\n      <td>75</td>\n      <td>JSONtest.json</td>\n    </tr>\n    <tr>\n      <td>17</td>\n      <td>Jane Jackson</td>\n      <td>09/03/2019</td>\n      <td>172</td>\n      <td>74</td>\n      <td>JSONtest2.json</td>\n    </tr>\n    <tr>\n      <td>18</td>\n      <td>Jane Jackson</td>\n      <td>09/03/2019</td>\n      <td>172</td>\n      <td>90</td>\n      <td>JSONtest2_Update.json</td>\n    </tr>\n    <tr>\n      <td>19</td>\n      <td>Becky Jackson</td>\n      <td>04/03/2019</td>\n      <td>165</td>\n      <td>70</td>\n      <td>JSONtest3.json</td>\n    </tr>\n    <tr>\n      <td>20</td>\n      <td>Becky Jackson</td>\n      <td>04/03/2019</td>\n      <td>165</td>\n      <td>90</td>\n      <td>JSONtest3_Update.json</td>\n    </tr>\n    <tr>\n      <td>21</td>\n      <td>Jane Smith</td>\n      <td>09/02/2019</td>\n      <td>170</td>\n      <td>90</td>\n      <td>JSONtest_Update.json</td>\n    </tr>\n    <tr>\n      <td>22</td>\n      <td>John Smith</td>\n      <td>02/08/2019</td>\n      <td>180</td>\n      <td>100</td>\n      <td>XMLtest.xml</td>\n    </tr>\n    <tr>\n      <td>23</td>\n      <td>John Smithe</td>\n      <td>03/08/2019</td>\n      <td>185</td>\n      <td>101</td>\n      <td>XMLtest2.xml</td>\n    </tr>\n    <tr>\n      <td>24</td>\n      <td>John Smithe</td>\n      <td>03/08/2019</td>\n      <td>185</td>\n      <td>90</td>\n      <td>XMLtest2_Update.xml</td>\n    </tr>\n    <tr>\n      <td>25</td>\n      <td>Brett Smithe</td>\n      <td>05/08/2019</td>\n      <td>179</td>\n      <td>99</td>\n      <td>XMLtest3.xml</td>\n    </tr>\n    <tr>\n      <td>26</td>\n      <td>Brett Smithe</td>\n      <td>05/08/2019</td>\n      <td>179</td>\n      <td>90</td>\n      <td>XMLtest3_Update.xml</td>\n    </tr>\n    <tr>\n      <td>27</td>\n      <td>John Smith</td>\n      <td>02/08/2019</td>\n      <td>180</td>\n      <td>90</td>\n      <td>XMLtest_update.xml</td>\n    </tr>\n  </tbody>\n</table>\n</div>"
     },
     "metadata": {},
     "execution_count": 11
    }
   ],
   "source": [
    "import json\n",
    "import requests \n",
    "import xml.etree.ElementTree as ET\n",
    "\n",
    "# Iterate through the files in the directory and append each one into the dataframe.\n",
    "# This will only work correctly if the files have the exact same column names.\n",
    "df_list = []\n",
    "for f in files_csv:\n",
    "    data = pd.read_csv(str(file_path) + '/' + str(f), index_col=None, header=0)\n",
    "    data['Source'] = f\n",
    "    df_list.append(data)\n",
    "    \n",
    "for f in files_xlsx:\n",
    "    data = pd.read_excel(str(file_path) + '/' + str(f))\n",
    "    data['Source'] = f\n",
    "    df_list.append(data)\n",
    "    \n",
    "# Iterate through the json files and add data from each to a list.\n",
    "json_list = []\n",
    "for f in files_json:\n",
    "    with open(str(file_path) + '/' + str(f)) as json_file:\n",
    "        json_obj = json.load(json_file)\n",
    "        json_obj['Source'] = f\n",
    "        json_list.append(json_obj.copy())\n",
    "# Turn the combined list into a dataframe.\n",
    "data = pd.DataFrame(json_list)\n",
    "# Add the data frame to the list of dataframes.\n",
    "df_list.append(data)\n",
    "    \n",
    "# Iterate through the xml files and add data from each to a list.\n",
    "xml_list = []\n",
    "for f in files_xml:\n",
    "    # create element tree object \n",
    "    tree = ET.parse(str(file_path) + '/' + str(f))\n",
    "    # get root element \n",
    "    root = tree.getroot()\n",
    "    # create dictionary from XML tags and values\n",
    "    itemdict = {}\n",
    "    for item in root:\n",
    "        itemdict[item.tag] = item.text\n",
    "    itemdict['Source'] = f\n",
    "    xml_list.append(itemdict.copy())\n",
    "# Turn the combined list into a dataframe.\n",
    "data = pd.DataFrame(xml_list)\n",
    "# Add the data frame to the list of dataframes.\n",
    "df_list.append(data)\n",
    "\n",
    "# Combine all the data frames in the list into a single data frame.    \n",
    "df =  pd.concat(df_list, axis=0, ignore_index=True, sort=False)\n",
    "\n",
    "# See how many rows the data frame has.\n",
    "print(len(df.index))\n",
    "\n",
    "# Show the data in the data frame.\n",
    "df"
   ]
  },
  {
   "cell_type": "code",
   "execution_count": 12,
   "metadata": {},
   "outputs": [
    {
     "output_type": "stream",
     "name": "stdout",
     "text": [
      "2020-10-20\nC:/Users/binod/Desktop/NURS 6806-090 Fall/Week_8/exerPythCombineFiles/FileTypes/NewCombinedFile_2020-10-20.csv\nFile saved.\n"
     ]
    }
   ],
   "source": [
    "# Save the dataframe to a new combined csv file.\n",
    "\n",
    "# Add today's date to the name of the new file.\n",
    "from datetime import date\n",
    "today = date.today()\n",
    "print(today)\n",
    "\n",
    "filename = str(file_path) + '/' + 'NewCombinedFile_' + str(today) + '.csv'\n",
    "print(filename)\n",
    "\n",
    "df.to_csv(filename, index=False)\n",
    "print('File saved.')"
   ]
  },
  {
   "cell_type": "code",
   "execution_count": null,
   "metadata": {},
   "outputs": [],
   "source": []
  }
 ],
 "metadata": {
  "kernelspec": {
   "display_name": "Python 3",
   "language": "python",
   "name": "python3"
  },
  "language_info": {
   "codemirror_mode": {
    "name": "ipython",
    "version": 3
   },
   "file_extension": ".py",
   "mimetype": "text/x-python",
   "name": "python",
   "nbconvert_exporter": "python",
   "pygments_lexer": "ipython3",
   "version": "3.7.4-final"
  },
  "varInspector": {
   "cols": {
    "lenName": 16,
    "lenType": 16,
    "lenVar": 40
   },
   "kernels_config": {
    "python": {
     "delete_cmd_postfix": "",
     "delete_cmd_prefix": "del ",
     "library": "var_list.py",
     "varRefreshCmd": "print(var_dic_list())"
    },
    "r": {
     "delete_cmd_postfix": ") ",
     "delete_cmd_prefix": "rm(",
     "library": "var_list.r",
     "varRefreshCmd": "cat(var_dic_list()) "
    }
   },
   "types_to_exclude": [
    "module",
    "function",
    "builtin_function_or_method",
    "instance",
    "_Feature"
   ],
   "window_display": false
  }
 },
 "nbformat": 4,
 "nbformat_minor": 2
}